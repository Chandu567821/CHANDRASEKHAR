{
  "nbformat": 4,
  "nbformat_minor": 0,
  "metadata": {
    "colab": {
      "provenance": []
    },
    "kernelspec": {
      "name": "python3",
      "display_name": "Python 3"
    },
    "language_info": {
      "name": "python"
    }
  },
  "cells": [
    {
      "cell_type": "code",
      "execution_count": 2,
      "metadata": {
        "id": "CLV99TJCj8Gb"
      },
      "outputs": [],
      "source": [
        "class Animal:\n",
        " def speak(self):\n",
        "   return \"Test1\"\n",
        "\n",
        "class Dog(Animal):\n",
        "  def speak(self):\n",
        "    return \"Test2\""
      ]
    },
    {
      "cell_type": "code",
      "source": [
        "object1=Animal()\n",
        "object2=Dog()"
      ],
      "metadata": {
        "id": "qwYiUuwLkBaM"
      },
      "execution_count": 3,
      "outputs": []
    },
    {
      "cell_type": "code",
      "source": [
        "object1.speak()"
      ],
      "metadata": {
        "colab": {
          "base_uri": "https://localhost:8080/",
          "height": 36
        },
        "id": "iBZpwBs2kBWs",
        "outputId": "5742e124-b8c4-4bba-db23-12257804a8c7"
      },
      "execution_count": 4,
      "outputs": [
        {
          "output_type": "execute_result",
          "data": {
            "text/plain": [
              "'Test1'"
            ],
            "application/vnd.google.colaboratory.intrinsic+json": {
              "type": "string"
            }
          },
          "metadata": {},
          "execution_count": 4
        }
      ]
    },
    {
      "cell_type": "code",
      "source": [
        "object2.speak()"
      ],
      "metadata": {
        "colab": {
          "base_uri": "https://localhost:8080/",
          "height": 36
        },
        "id": "lp-ynfTukBTJ",
        "outputId": "8d2a760d-dc14-49ab-aabb-203c4e4985f7"
      },
      "execution_count": 5,
      "outputs": [
        {
          "output_type": "execute_result",
          "data": {
            "text/plain": [
              "'Test2'"
            ],
            "application/vnd.google.colaboratory.intrinsic+json": {
              "type": "string"
            }
          },
          "metadata": {},
          "execution_count": 5
        }
      ]
    },
    {
      "cell_type": "code",
      "source": [],
      "metadata": {
        "id": "OObMsqq8kBP2"
      },
      "execution_count": null,
      "outputs": []
    },
    {
      "cell_type": "code",
      "source": [
        "class plot:\n",
        "    def draw(self):\n",
        "        print(\"Drawing generic plot\")\n",
        "\n",
        "class Lineplot(plot):\n",
        "    def draw(self):\n",
        "        print(\"Drawing lineplot\")\n",
        "\n",
        "class Barplot(plot):\n",
        "    def draw(self):\n",
        "        print(\"Drawing bar chart\")\n",
        "\n",
        "p = plot()\n",
        "l = Lineplot()\n",
        "b = Barplot()\n",
        "\n",
        "p.draw()\n",
        "l.draw()\n",
        "b.draw()\n",
        "\n",
        "\n",
        ""
      ],
      "metadata": {
        "colab": {
          "base_uri": "https://localhost:8080/"
        },
        "id": "BYbnAoIOkBMn",
        "outputId": "a9bbfe74-cb8d-4023-b262-ab195bb61ab7"
      },
      "execution_count": 10,
      "outputs": [
        {
          "output_type": "stream",
          "name": "stdout",
          "text": [
            "Drawing generic plot\n",
            "Drawing lineplot\n",
            "Drawing bar chart\n"
          ]
        }
      ]
    },
    {
      "cell_type": "code",
      "source": [],
      "metadata": {
        "id": "Kqz6CqI3kBJh"
      },
      "execution_count": null,
      "outputs": []
    },
    {
      "cell_type": "code",
      "source": [
        "class plot:\n",
        "    def draw1(self):\n",
        "        print(\"Drawing generic plot\")\n",
        "\n",
        "class Lineplot(plot):\n",
        "    def draw2(self):\n",
        "        print(\"Drawing lineplot\")\n",
        "\n",
        "class Barplot(Lineplot):\n",
        "    def draw3(self):\n",
        "        print(\"Drawing bar chart\")\n",
        "\n",
        "b = Barplot()\n",
        "\n",
        "b.draw1()\n",
        "b.draw2()\n",
        "b.draw3()\n"
      ],
      "metadata": {
        "colab": {
          "base_uri": "https://localhost:8080/"
        },
        "id": "YCCbq7E2oTdS",
        "outputId": "22d500a9-62df-4ae8-fad0-51e6c3595d02"
      },
      "execution_count": 17,
      "outputs": [
        {
          "output_type": "stream",
          "name": "stdout",
          "text": [
            "Drawing generic plot\n",
            "Drawing lineplot\n",
            "Drawing bar chart\n"
          ]
        }
      ]
    },
    {
      "cell_type": "code",
      "source": [
        "class operation:\n",
        "  def compute(self,a,b):\n",
        "    print(\"performing generic operations\")\n",
        "class add(operation):\n",
        "  def compute(self,a,b):\n",
        "    print(\"Addition\",a+b)\n",
        "class multiply(operation):\n",
        "  def compute(self,a,b):\n",
        "    print(\"Multiplication\",a*b)\n",
        "class divide(operation):\n",
        "  def compute(self,a,b):\n",
        "    print(\"Division\",a/b)\n",
        "class substract(operation):\n",
        "  def compute(self,a,b):\n",
        "    print(\"Substraction\",a-b)\n",
        "\n",
        "\n",
        "op=operation()\n",
        "add=add()\n",
        "multiply=multiply()\n",
        "devide=divide()\n",
        "substract=substract()\n",
        "\n",
        "op.compute(20,10)\n",
        "add.compute(20,10)\n",
        "multiply.compute(20,10)\n",
        "devide.compute(20,10)\n",
        "substract.compute(20,10)\n"
      ],
      "metadata": {
        "colab": {
          "base_uri": "https://localhost:8080/"
        },
        "id": "GbjPdA0coTaD",
        "outputId": "5bb35279-e3b5-4546-d557-aeea0afa1875"
      },
      "execution_count": 20,
      "outputs": [
        {
          "output_type": "stream",
          "name": "stdout",
          "text": [
            "performing generic operations\n",
            "Addition 30\n",
            "Multiplication 200\n",
            "Division 2.0\n",
            "Substraction 10\n"
          ]
        }
      ]
    },
    {
      "cell_type": "code",
      "source": [],
      "metadata": {
        "id": "gAPPNJ2KrqZP"
      },
      "execution_count": null,
      "outputs": []
    },
    {
      "cell_type": "code",
      "source": [
        "class CSVExporter:\n",
        "    def export(self):\n",
        "        print(\"Exporting data to CSV\")\n",
        "\n",
        "class ExcelExporter:\n",
        "    def export(self):\n",
        "        print(\"Exporting data to Excel\")\n",
        "\n",
        "class DatabaseExporter:\n",
        "    def export(self):\n",
        "        print(\"Exporting data to Database\")\n",
        "\n",
        "def run_export(exporter):\n",
        "    exporter.export()\n",
        "\n",
        "run_export(CSVExporter())\n",
        "run_export(ExcelExporter())\n",
        "run_export(DatabaseExporter())\n",
        "\n",
        "\n"
      ],
      "metadata": {
        "colab": {
          "base_uri": "https://localhost:8080/"
        },
        "id": "YBM4o8QRrqVp",
        "outputId": "2d63363b-557f-40c3-c961-b5f5cd32de1b"
      },
      "execution_count": 23,
      "outputs": [
        {
          "output_type": "stream",
          "name": "stdout",
          "text": [
            "Exporting data to CSV\n",
            "Exporting data to Excel\n",
            "Exporting data to Database\n"
          ]
        }
      ]
    },
    {
      "cell_type": "code",
      "source": [],
      "metadata": {
        "id": "7xThwjEvrqSG"
      },
      "execution_count": null,
      "outputs": []
    },
    {
      "cell_type": "code",
      "source": [
        "class Duck:\n",
        "    def quack(self):\n",
        "        print(\"Quack!\")\n",
        "\n",
        "class Person:\n",
        "    def quack(self):\n",
        "        print(\"I'm pretending to be a duck!\")\n",
        "\n",
        "def make_it_quack(x):\n",
        "    x.quack()\n",
        "\n",
        "\n",
        "d = Duck()\n",
        "p = Person()\n",
        "\n",
        "make_it_quack(d)\n",
        "make_it_quack(p)\n"
      ],
      "metadata": {
        "colab": {
          "base_uri": "https://localhost:8080/"
        },
        "id": "R5H-QFc0rqPZ",
        "outputId": "47912ed5-d8cd-43d2-b4d1-ebe9fa44828e"
      },
      "execution_count": 25,
      "outputs": [
        {
          "output_type": "stream",
          "name": "stdout",
          "text": [
            "Quack!\n",
            "I'm pretending to be a duck!\n"
          ]
        }
      ]
    },
    {
      "cell_type": "code",
      "source": [],
      "metadata": {
        "id": "VACmaPqjrqMS"
      },
      "execution_count": null,
      "outputs": []
    },
    {
      "cell_type": "code",
      "source": [
        "class India:\n",
        "    def capital(self):\n",
        "        print(\"New Delhi\")\n",
        "\n",
        "class USA:\n",
        "    def capital(self):\n",
        "        print(\"Washington, D.C.\")\n",
        "\n",
        "class China:\n",
        "    def capital(self):\n",
        "        print(\"Beijing\")\n",
        "\n",
        "\n",
        "obj_ind = India()\n",
        "obj_usa = USA()\n",
        "obj_china = China()\n",
        "\n",
        "for country in (obj_ind, obj_usa, obj_china):\n",
        "    country.capital()\n",
        "\n"
      ],
      "metadata": {
        "colab": {
          "base_uri": "https://localhost:8080/"
        },
        "id": "kNF4ZqCwrqJC",
        "outputId": "0af086ce-f475-4626-82f1-86cdf8b53e47"
      },
      "execution_count": 38,
      "outputs": [
        {
          "output_type": "stream",
          "name": "stdout",
          "text": [
            "New Delhi\n",
            "Washington, D.C.\n",
            "Beijing\n"
          ]
        }
      ]
    }
  ]
}