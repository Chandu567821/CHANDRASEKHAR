{
  "nbformat": 4,
  "nbformat_minor": 0,
  "metadata": {
    "colab": {
      "provenance": []
    },
    "kernelspec": {
      "name": "python3",
      "display_name": "Python 3"
    },
    "language_info": {
      "name": "python"
    }
  },
  "cells": [
    {
      "cell_type": "code",
      "execution_count": null,
      "metadata": {
        "id": "LbnsTTZrFlGW"
      },
      "outputs": [],
      "source": [
        "#Abstraction\n"
      ]
    },
    {
      "cell_type": "code",
      "source": [
        "from abc import ABC, abstractmethod\n",
        "\n",
        "class Payment(ABC):\n",
        "    def pay(self, amount, interest):\n",
        "        pass\n",
        "\n",
        "class CreditCard(Payment):\n",
        "    def pay(self, amount, interest):\n",
        "        print(f\"Paid ₹{amount} + interest ₹{interest} using Credit Card\")\n",
        "\n",
        "\n",
        "class UPI(Payment):\n",
        "    def pay(self, amount, interest):\n",
        "        print(f\"Paid ₹{amount} + interest ₹{interest} using UPI\")\n",
        "\n",
        "cc = CreditCard()\n",
        "cc.pay(1000, 50)\n",
        "\n",
        "upi = UPI()\n",
        "upi.pay(500, 10)"
      ],
      "metadata": {
        "colab": {
          "base_uri": "https://localhost:8080/"
        },
        "id": "aXEeh3IKFoX_",
        "outputId": "938e9a47-4623-4b05-b65a-bf119f5bdeab"
      },
      "execution_count": null,
      "outputs": [
        {
          "output_type": "stream",
          "name": "stdout",
          "text": [
            "Paid ₹1000 + interest ₹50 using Credit Card\n",
            "Paid ₹500 + interest ₹10 using UPI\n"
          ]
        }
      ]
    },
    {
      "cell_type": "code",
      "source": [],
      "metadata": {
        "id": "UkRdF7VkFoUn"
      },
      "execution_count": null,
      "outputs": []
    },
    {
      "cell_type": "code",
      "source": [
        "from abc import ABC, abstractmethod\n",
        "class Vehicle(ABC):\n",
        "\n",
        "    def start_engine(self):\n",
        "        pass\n",
        "\n",
        "    def stop_engine(self):\n",
        "        pass\n",
        "\n",
        "\n",
        "class Car(Vehicle):\n",
        "    def start_engine(self):\n",
        "        print(\"Car engine started\")\n",
        "\n",
        "    def stop_engine(self):\n",
        "        print(\"Car engine stopped\")\n",
        "\n",
        "c = Car()\n",
        "c.start_engine()\n",
        "c.stop_engine()\n"
      ],
      "metadata": {
        "colab": {
          "base_uri": "https://localhost:8080/"
        },
        "id": "Pnauw1S7FoRo",
        "outputId": "1216c0a2-e03a-4718-d62b-f969b08ff430"
      },
      "execution_count": null,
      "outputs": [
        {
          "output_type": "stream",
          "name": "stdout",
          "text": [
            "Car engine started\n",
            "Car engine stopped\n"
          ]
        }
      ]
    },
    {
      "cell_type": "code",
      "source": [],
      "metadata": {
        "id": "PRtCGqHkFoOo"
      },
      "execution_count": null,
      "outputs": []
    },
    {
      "cell_type": "code",
      "source": [
        "#Execption Handling\n"
      ],
      "metadata": {
        "id": "rUx6vjnQFoMB"
      },
      "execution_count": null,
      "outputs": []
    },
    {
      "cell_type": "code",
      "source": [
        "try:\n",
        "    a = 10/0\n",
        "    b = int(\"abc\")\n",
        "except ValueError:\n",
        "    print(\"Could not convert to integer.\")\n",
        "except ZeroDivisionError:\n",
        "    print(\"Division by zero error.\")"
      ],
      "metadata": {
        "colab": {
          "base_uri": "https://localhost:8080/"
        },
        "id": "VzxoO4gpFoJb",
        "outputId": "bde90057-93c1-47d0-dcd8-6922e3a32e26"
      },
      "execution_count": null,
      "outputs": [
        {
          "output_type": "stream",
          "name": "stdout",
          "text": [
            "Division by zero error.\n"
          ]
        }
      ]
    },
    {
      "cell_type": "code",
      "source": [],
      "metadata": {
        "id": "M4h_0SupFoGh"
      },
      "execution_count": null,
      "outputs": []
    },
    {
      "cell_type": "code",
      "source": [
        "try:\n",
        "    a = int(\"abc\")\n",
        "    b = 10 / 0\n",
        "except ValueError:\n",
        "    print(\"Could not convert to integer.\")\n",
        "except ZeroDivisionError:\n",
        "    print(\"Division by zero error.\")"
      ],
      "metadata": {
        "colab": {
          "base_uri": "https://localhost:8080/"
        },
        "id": "VkF3TDwPNafT",
        "outputId": "1200ba38-d0be-4d2d-8e31-2f280cd36f28"
      },
      "execution_count": null,
      "outputs": [
        {
          "output_type": "stream",
          "name": "stdout",
          "text": [
            "Could not convert to integer.\n"
          ]
        }
      ]
    },
    {
      "cell_type": "code",
      "source": [],
      "metadata": {
        "id": "33zUBNXSNabv"
      },
      "execution_count": null,
      "outputs": []
    },
    {
      "cell_type": "code",
      "source": [
        "try:\n",
        "    print(\"Trying something risky...\")\n",
        "    x = 1 / 0\n",
        "except ZeroDivisionError:\n",
        "    print(\"Caught division by zero.\")\n",
        "finally:\n",
        "    print(\"This always runs.\")"
      ],
      "metadata": {
        "colab": {
          "base_uri": "https://localhost:8080/"
        },
        "id": "EqCWyLFSNaZA",
        "outputId": "b2026994-c3ed-4957-a5b2-c417211b7906"
      },
      "execution_count": null,
      "outputs": [
        {
          "output_type": "stream",
          "name": "stdout",
          "text": [
            "Trying something risky...\n",
            "Caught division by zero.\n",
            "This always runs.\n"
          ]
        }
      ]
    },
    {
      "cell_type": "code",
      "source": [],
      "metadata": {
        "id": "dlHLvubbNqEx"
      },
      "execution_count": null,
      "outputs": []
    },
    {
      "cell_type": "code",
      "source": [
        "try:\n",
        "    x=1/0\n",
        "    print(\"Trying something risky...\")\n",
        "except ZeroDivisionError:\n",
        "    print(\"Caught division by zero.\")\n",
        "finally:\n",
        "    print(\"This always runs.\")"
      ],
      "metadata": {
        "colab": {
          "base_uri": "https://localhost:8080/"
        },
        "id": "TgSy4kuhNp9e",
        "outputId": "82d3d6b7-2a78-49d5-ccff-f6c60d118ea2"
      },
      "execution_count": null,
      "outputs": [
        {
          "output_type": "stream",
          "name": "stdout",
          "text": [
            "Caught division by zero.\n",
            "This always runs.\n"
          ]
        }
      ]
    },
    {
      "cell_type": "code",
      "source": [],
      "metadata": {
        "id": "sdYFPioBN2aV"
      },
      "execution_count": null,
      "outputs": []
    },
    {
      "cell_type": "code",
      "source": [
        "try:\n",
        "    with open(\"/content/sample1.txt\", \"r\") as f:\n",
        "        content = f.read()\n",
        "        print(content)\n",
        "except FileNotFoundError:\n",
        "    print(\"File not found.\")"
      ],
      "metadata": {
        "colab": {
          "base_uri": "https://localhost:8080/"
        },
        "id": "ruwjlGEAN2Wr",
        "outputId": "127e2b39-db6f-4fbc-ad4b-cc241fea72ac"
      },
      "execution_count": null,
      "outputs": [
        {
          "output_type": "stream",
          "name": "stdout",
          "text": [
            "File not found.\n"
          ]
        }
      ]
    },
    {
      "cell_type": "code",
      "source": [],
      "metadata": {
        "id": "yeFZYCRFPhn5"
      },
      "execution_count": null,
      "outputs": []
    },
    {
      "cell_type": "code",
      "source": [
        "try:\n",
        "    x = 10 / 2\n",
        "except ZeroDivisionError:\n",
        "    print(\"Error occurred\")\n",
        "else:\n",
        "    print(\"No error. Result:\", x)\n"
      ],
      "metadata": {
        "id": "U0LAPp-6Phkb",
        "colab": {
          "base_uri": "https://localhost:8080/"
        },
        "outputId": "9a795af1-935e-4763-cead-6176eaafbb64"
      },
      "execution_count": 1,
      "outputs": [
        {
          "output_type": "stream",
          "name": "stdout",
          "text": [
            "No error. Result: 5.0\n"
          ]
        }
      ]
    },
    {
      "cell_type": "code",
      "source": [],
      "metadata": {
        "id": "BJQksFN5RmcW"
      },
      "execution_count": null,
      "outputs": []
    },
    {
      "cell_type": "code",
      "source": [
        "try:\n",
        "    try:\n",
        "        x = int(\"xyz\")\n",
        "    except ValueError:\n",
        "        print(\"Inner exception caught.\")\n",
        "except:\n",
        "    print(\"Outer exception caught.\")\n"
      ],
      "metadata": {
        "id": "rg8_KEibPhhZ",
        "colab": {
          "base_uri": "https://localhost:8080/"
        },
        "outputId": "c9da3501-21ca-4218-dc10-c944b2cebef3"
      },
      "execution_count": 2,
      "outputs": [
        {
          "output_type": "stream",
          "name": "stdout",
          "text": [
            "Inner exception caught.\n"
          ]
        }
      ]
    },
    {
      "cell_type": "code",
      "source": [],
      "metadata": {
        "id": "LFQynmD5TQr-"
      },
      "execution_count": null,
      "outputs": []
    },
    {
      "cell_type": "code",
      "source": [
        "try:\n",
        "    try:\n",
        "        x = int12\n",
        "    except ValueError:\n",
        "        print(\"Inner exception caught.\")\n",
        "except:\n",
        "    print(\"Outer exception caught.\")\n"
      ],
      "metadata": {
        "colab": {
          "base_uri": "https://localhost:8080/"
        },
        "id": "sRI8whDCTQoh",
        "outputId": "d01ad265-cc4d-4311-b6db-d8c9ec4cd60d"
      },
      "execution_count": 5,
      "outputs": [
        {
          "output_type": "stream",
          "name": "stdout",
          "text": [
            "Outer exception caught.\n"
          ]
        }
      ]
    },
    {
      "cell_type": "code",
      "source": [],
      "metadata": {
        "id": "XNEvoKUQTQlD"
      },
      "execution_count": null,
      "outputs": []
    },
    {
      "cell_type": "code",
      "source": [
        "class CustomError(Exception):\n",
        "    pass\n",
        "\n",
        "try:\n",
        "    raise CustomError(\"This is a custom error.\")\n",
        "except CustomError as e:\n",
        "    print(e)\n"
      ],
      "metadata": {
        "id": "-KqienJfN2Ty",
        "colab": {
          "base_uri": "https://localhost:8080/"
        },
        "outputId": "672b1dd5-8ba4-4471-8817-546cc2a633f9"
      },
      "execution_count": 6,
      "outputs": [
        {
          "output_type": "stream",
          "name": "stdout",
          "text": [
            "This is a custom error.\n"
          ]
        }
      ]
    },
    {
      "cell_type": "code",
      "source": [],
      "metadata": {
        "id": "xRnFr4T6Tm69"
      },
      "execution_count": null,
      "outputs": []
    },
    {
      "cell_type": "code",
      "source": [
        "try:\n",
        "    data = {\"name\": \"Alice\"}\n",
        "    print(data[\"name\"])\n",
        "except KeyError:\n",
        "    print(\"Key not found in dictionary.\")\n",
        "\n"
      ],
      "metadata": {
        "colab": {
          "base_uri": "https://localhost:8080/"
        },
        "id": "_CbLLXybTmnO",
        "outputId": "681d1267-d58e-422e-e593-70f26c78ffa7"
      },
      "execution_count": 17,
      "outputs": [
        {
          "output_type": "stream",
          "name": "stdout",
          "text": [
            "Alice\n"
          ]
        }
      ]
    },
    {
      "cell_type": "code",
      "source": [],
      "metadata": {
        "id": "q_LCfn-0Tmj0"
      },
      "execution_count": null,
      "outputs": []
    },
    {
      "cell_type": "code",
      "source": [
        "try:\n",
        "    x = 5\n",
        "    x.append(2)\n",
        "except AttributeError:\n",
        "    print(\"Invalid attribute for the object.\")"
      ],
      "metadata": {
        "colab": {
          "base_uri": "https://localhost:8080/"
        },
        "id": "1gvTyxBAVhDs",
        "outputId": "f9b06461-c190-409b-f38c-77e6d189f6b3"
      },
      "execution_count": 19,
      "outputs": [
        {
          "output_type": "stream",
          "name": "stdout",
          "text": [
            "Invalid attribute for the object.\n"
          ]
        }
      ]
    },
    {
      "cell_type": "code",
      "source": [],
      "metadata": {
        "id": "3ViW9Es4VhAZ"
      },
      "execution_count": null,
      "outputs": []
    },
    {
      "cell_type": "code",
      "source": [
        "try:\n",
        "    number = int(\"100\")\n",
        "except ValueError:\n",
        "    print(\"Conversion failed.\")\n",
        "else:\n",
        "    print(\"Conversion successful:\", number)"
      ],
      "metadata": {
        "colab": {
          "base_uri": "https://localhost:8080/"
        },
        "id": "z-TyzVGKVg9U",
        "outputId": "408eaaa9-6990-454e-f9a5-6ee6a8a9a879"
      },
      "execution_count": 20,
      "outputs": [
        {
          "output_type": "stream",
          "name": "stdout",
          "text": [
            "Conversion successful: 100\n"
          ]
        }
      ]
    },
    {
      "cell_type": "code",
      "source": [],
      "metadata": {
        "id": "qawuTvarVg6d"
      },
      "execution_count": null,
      "outputs": []
    },
    {
      "cell_type": "code",
      "source": [
        "try:\n",
        "    number = int(\"abc\")\n",
        "except ValueError:\n",
        "    print(\"Conversion failed.\")\n",
        "else:\n",
        "    print(\"Conversion successful:\", number)"
      ],
      "metadata": {
        "colab": {
          "base_uri": "https://localhost:8080/"
        },
        "id": "Q9UCUhkjWSP_",
        "outputId": "da5d08c0-c613-4f5b-e958-8881fb27418c"
      },
      "execution_count": 21,
      "outputs": [
        {
          "output_type": "stream",
          "name": "stdout",
          "text": [
            "Conversion failed.\n"
          ]
        }
      ]
    },
    {
      "cell_type": "code",
      "source": [],
      "metadata": {
        "id": "HfDRbcmBWSMk"
      },
      "execution_count": null,
      "outputs": []
    },
    {
      "cell_type": "code",
      "source": [
        "try:\n",
        "    lst = [1, 2, 3]\n",
        "    print(lst[7])\n",
        "except IndexError:\n",
        "    print(\"Index out of range\")\n",
        "else:\n",
        "    print(\"List item accessed\")\n",
        "finally:\n",
        "    print(\"List operation done\")"
      ],
      "metadata": {
        "colab": {
          "base_uri": "https://localhost:8080/"
        },
        "id": "CGcfz793WSJy",
        "outputId": "a27c4faa-6e39-4dd6-bba9-86bdfa4d5bb3"
      },
      "execution_count": 22,
      "outputs": [
        {
          "output_type": "stream",
          "name": "stdout",
          "text": [
            "Index out of range\n",
            "List operation done\n"
          ]
        }
      ]
    },
    {
      "cell_type": "code",
      "source": [],
      "metadata": {
        "id": "DtSvSTboWohG"
      },
      "execution_count": null,
      "outputs": []
    },
    {
      "cell_type": "code",
      "source": [
        "try:\n",
        "    lst = [1, 2, 3]\n",
        "    print(lst[2])\n",
        "except IndexError:\n",
        "    print(\"Index out of range\")\n",
        "else:\n",
        "    print(\"List item accessed\")\n",
        "finally:\n",
        "    print(\"List operation done\")"
      ],
      "metadata": {
        "colab": {
          "base_uri": "https://localhost:8080/"
        },
        "id": "v_ilpyWYWod2",
        "outputId": "7c2ae583-ae2c-4af6-d8e5-5f0e84f1b9dd"
      },
      "execution_count": 24,
      "outputs": [
        {
          "output_type": "stream",
          "name": "stdout",
          "text": [
            "3\n",
            "List item accessed\n",
            "List operation done\n"
          ]
        }
      ]
    },
    {
      "cell_type": "code",
      "source": [],
      "metadata": {
        "id": "k43MEOmeW68h"
      },
      "execution_count": null,
      "outputs": []
    },
    {
      "cell_type": "code",
      "source": [
        "data = [[1, 2], [3, 4], \"invalid\"]\n",
        "for sublist in data:\n",
        "    for item in sublist:\n",
        "        print(item * 3)"
      ],
      "metadata": {
        "colab": {
          "base_uri": "https://localhost:8080/"
        },
        "id": "NUJBN3qIW65Q",
        "outputId": "97c371c7-81dc-4e08-8103-bdf4f2b1bce8"
      },
      "execution_count": 25,
      "outputs": [
        {
          "output_type": "stream",
          "name": "stdout",
          "text": [
            "3\n",
            "6\n",
            "9\n",
            "12\n",
            "iii\n",
            "nnn\n",
            "vvv\n",
            "aaa\n",
            "lll\n",
            "iii\n",
            "ddd\n"
          ]
        }
      ]
    }
  ]
}