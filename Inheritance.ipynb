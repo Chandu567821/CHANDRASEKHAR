{
  "nbformat": 4,
  "nbformat_minor": 0,
  "metadata": {
    "colab": {
      "provenance": []
    },
    "kernelspec": {
      "name": "python3",
      "display_name": "Python 3"
    },
    "language_info": {
      "name": "python"
    }
  },
  "cells": [
    {
      "cell_type": "code",
      "source": [
        "\n",
        "##Single Inheritance\n"
      ],
      "metadata": {
        "id": "RnYWt-zrtTt1"
      },
      "execution_count": null,
      "outputs": []
    },
    {
      "cell_type": "code",
      "source": [
        "class Animal:\n",
        "    def __init__(self, name):\n",
        "        self.name = name\n",
        "        print(f\"[Animal] Initialized: {self.name}\")\n",
        "\n",
        "    def make_sound(self):\n",
        "        print(f\"[Animal] {self.name} is making a sound.\")\n",
        "\n",
        "\n",
        "\n",
        "class Dog(Animal):\n",
        "    def __init__(self, name, breed):\n",
        "        super().__init__(name)\n",
        "        self.breed = breed\n",
        "        print(f\"[Dog] Initialized: {self.breed}\")\n",
        "\n",
        "    def make_sound(self):\n",
        "        print(f\"[Dog] {self.name} the {self.breed} is barking!\")\n",
        "\n",
        "\n",
        "\n",
        "my_dog = Dog(\"Buddy\", \"Labrador\")\n",
        "my_dog.make_sound()\n",
        "\n",
        "\n",
        "my_dog.__init__(\"Max\", \"Beagle\")\n",
        "my_dog.make_sound()\n"
      ],
      "metadata": {
        "colab": {
          "base_uri": "https://localhost:8080/"
        },
        "id": "7JQn5GWstTjf",
        "outputId": "0cd397c4-3a6d-4a4f-840c-b4a622617be2"
      },
      "execution_count": null,
      "outputs": [
        {
          "output_type": "stream",
          "name": "stdout",
          "text": [
            "[Animal] Initialized: Buddy\n",
            "[Dog] Initialized: Labrador\n",
            "[Dog] Buddy the Labrador is barking!\n",
            "[Animal] Initialized: Max\n",
            "[Dog] Initialized: Beagle\n",
            "[Dog] Max the Beagle is barking!\n"
          ]
        }
      ]
    },
    {
      "cell_type": "code",
      "source": [],
      "metadata": {
        "id": "2hacvpz2tTfk"
      },
      "execution_count": null,
      "outputs": []
    },
    {
      "cell_type": "code",
      "source": [
        "class Fruit:\n",
        "    def __init__(self, color):\n",
        "        self.color = color\n",
        "        print(f\"[Fruit] Color: {self.color}\")\n",
        "\n",
        "    def describe(self):\n",
        "        print(f\"[Fruit] This fruit is {self.color}.\")\n",
        "\n",
        "class Apple(Fruit):\n",
        "    def __init__(self, color, taste):\n",
        "        super().__init__(color)\n",
        "        self.taste = taste\n",
        "        print(f\"[Apple] Taste: {self.taste}\")\n",
        "\n",
        "    def describe(self):\n",
        "        print(f\"[Apple] This apple tastes {self.taste}.\")\n",
        "\n",
        "my_apple = Apple(\"Red\", \"Sweet\")\n",
        "my_apple.describe()"
      ],
      "metadata": {
        "colab": {
          "base_uri": "https://localhost:8080/"
        },
        "id": "Vs1sREWwzhd6",
        "outputId": "abc3c3e7-ae83-4814-f7cb-d1800dcc3757"
      },
      "execution_count": null,
      "outputs": [
        {
          "output_type": "stream",
          "name": "stdout",
          "text": [
            "[Fruit] Color: Red\n",
            "[Apple] Taste: Sweet\n",
            "[Apple] This apple tastes Sweet.\n"
          ]
        }
      ]
    },
    {
      "cell_type": "code",
      "source": [
        "class Book:\n",
        "    def __init__(self, title):\n",
        "        self.title = title\n",
        "        print(f\"[Book] Title: {self.title}\")\n",
        "\n",
        "    def read(self):\n",
        "        print(f\"[Book] Reading {self.title}\")\n",
        "\n",
        "class Novel(Book):\n",
        "    def __init__(self, title, author):\n",
        "        super().__init__(title)\n",
        "        self.author = author\n",
        "        print(f\"[Novel] Author: {self.author}\")\n",
        "\n",
        "    def read(self):\n",
        "        print(f\"[Novel] {self.title} by {self.author}\")\n",
        "\n",
        "my_novel = Novel(\"1984\", \"George Orwell\")\n",
        "my_novel.read()\n"
      ],
      "metadata": {
        "colab": {
          "base_uri": "https://localhost:8080/"
        },
        "id": "z6mhjg1rzhaU",
        "outputId": "7a7d2be5-debc-4b9f-f667-c703174830ee"
      },
      "execution_count": null,
      "outputs": [
        {
          "output_type": "stream",
          "name": "stdout",
          "text": [
            "[Book] Title: 1984\n",
            "[Novel] Author: George Orwell\n",
            "[Novel] 1984 by George Orwell\n"
          ]
        }
      ]
    },
    {
      "cell_type": "code",
      "source": [
        "##Multilevel Inheritance"
      ],
      "metadata": {
        "id": "RRqzRpIKzhXy"
      },
      "execution_count": null,
      "outputs": []
    },
    {
      "cell_type": "code",
      "source": [
        "\n",
        "class Vehicle:\n",
        "    def __init__(self, brand):\n",
        "        self.brand = brand\n",
        "        print(f\"[Vehicle] Initialized for brand: {self.brand}\")\n",
        "\n",
        "    def start_engine(self):\n",
        "        print(f\"[Vehicle] Starting engine of {self.brand}\")\n",
        "\n",
        "\n",
        "\n",
        "class Car(Vehicle):\n",
        "    def __init__(self, brand, model):\n",
        "        super().__init__(brand)\n",
        "        self.model = model\n",
        "        print(f\"[Car] Initialized for model: {self.model}\")\n",
        "\n",
        "    def drive(self):\n",
        "        print(f\"[Car] Driving {self.brand} {self.model}\")\n",
        "\n",
        "\n",
        "class ElectricCar(Car):\n",
        "    def __init__(self, brand, model, battery_range):\n",
        "        super().__init__(brand, model)\n",
        "        self.battery_range = battery_range\n",
        "        print(f\"[ElectricCar] Initialized with range: {self.battery_range} km\")\n",
        "\n",
        "    def charge(self):\n",
        "        print(f\"[ElectricCar] Charging {self.brand} {self.model}... Range: {self.battery_range} km\")\n",
        "\n",
        "    def start_engine(self):\n",
        "        print(f\"[ElectricCar] No engine to start. {self.brand} {self.model} is electric!\")\n",
        "\n",
        "my_electric_car = ElectricCar(\"Tesla\", \"Model 3\", 500)\n",
        "\n",
        "my_electric_car.start_engine()\n",
        "my_electric_car.charge()\n",
        "\n"
      ],
      "metadata": {
        "colab": {
          "base_uri": "https://localhost:8080/"
        },
        "id": "nVhcbM-zzhVI",
        "outputId": "c287528a-d639-414d-c386-3c96bf1fd340"
      },
      "execution_count": null,
      "outputs": [
        {
          "output_type": "stream",
          "name": "stdout",
          "text": [
            "[Vehicle] Initialized for brand: Tesla\n",
            "[Car] Initialized for model: Model 3\n",
            "[ElectricCar] Initialized with range: 500 km\n",
            "[ElectricCar] No engine to start. Tesla Model 3 is electric!\n",
            "[ElectricCar] Charging Tesla Model 3... Range: 500 km\n"
          ]
        }
      ]
    },
    {
      "cell_type": "code",
      "source": [
        "class Device:\n",
        "    def __init__(self, name):\n",
        "        self.name = name\n",
        "        print(f\"[Device] Name: {self.name}\")\n",
        "\n",
        "    def power_on(self):\n",
        "        print(f\"[Device] Powering on {self.name}\")\n",
        "\n",
        "\n",
        "class Computer(Device):\n",
        "    def __init__(self, name, os):\n",
        "        super().__init__(name)\n",
        "        self.os = os\n",
        "        print(f\"[Computer] OS: {self.os}\")\n",
        "\n",
        "    def boot(self):\n",
        "        print(f\"[Computer] Booting {self.name} with {self.os}\")\n",
        "\n",
        "\n",
        "class Laptop(Computer):\n",
        "    def __init__(self, name, os, version):\n",
        "        super().__init__(name, os)\n",
        "        self.version = version\n",
        "        print(f\"[Laptop] Version: {self.version}\")\n",
        "\n",
        "    def run(self):\n",
        "        print(f\"[Laptop] {self.name} running {self.os} v{self.version}\")\n",
        "\n",
        "\n",
        "my_laptop = Laptop(\"ThinkPad\", \"Windows\", \"10\")\n",
        "my_laptop.power_on()\n",
        "my_laptop.boot()\n",
        "my_laptop.run()"
      ],
      "metadata": {
        "colab": {
          "base_uri": "https://localhost:8080/"
        },
        "id": "oT3ibu1PzhSG",
        "outputId": "1eea74fc-4ab0-48db-d32c-250529700852"
      },
      "execution_count": null,
      "outputs": [
        {
          "output_type": "stream",
          "name": "stdout",
          "text": [
            "[Device] Name: ThinkPad\n",
            "[Computer] OS: Windows\n",
            "[Laptop] Version: 10\n",
            "[Device] Powering on ThinkPad\n",
            "[Computer] Booting ThinkPad with Windows\n",
            "[Laptop] ThinkPad running Windows v10\n"
          ]
        }
      ]
    },
    {
      "cell_type": "code",
      "source": [
        "##Multiple Interitance"
      ],
      "metadata": {
        "id": "eSImc_xL7KMA"
      },
      "execution_count": null,
      "outputs": []
    },
    {
      "cell_type": "code",
      "source": [
        "class Flyer:\n",
        "    def __init__(self):\n",
        "        print(\"[Flyer] Can fly!\")\n",
        "\n",
        "    def fly(self):\n",
        "        print(\"[Flyer] Flying...\")\n",
        "\n",
        "\n",
        "class Swimmer:\n",
        "    def __init__(self):\n",
        "        print(\"[Swimmer] Can swim!\")\n",
        "\n",
        "    def swim(self):\n",
        "        print(\"[Swimmer] Swimming...\")\n",
        "\n",
        "class Duck(Flyer, Swimmer):\n",
        "    def __init__(self):\n",
        "        Flyer.__init__(self)\n",
        "        Swimmer.__init__(self)\n",
        "        print(\"[Duck] Initialized!\")\n",
        "\n",
        "    def quack(self):\n",
        "        print(\"[Duck] Quacking!\")\n",
        "\n",
        "donald = Duck()\n",
        "donald.fly()\n",
        "donald.swim()\n",
        "donald.quack()\n"
      ],
      "metadata": {
        "colab": {
          "base_uri": "https://localhost:8080/"
        },
        "id": "GBbuWkDM7KIl",
        "outputId": "8310219c-b1e3-492d-db1e-d4e70bb74f7a"
      },
      "execution_count": null,
      "outputs": [
        {
          "output_type": "stream",
          "name": "stdout",
          "text": [
            "[Flyer] Can fly!\n",
            "[Swimmer] Can swim!\n",
            "[Duck] Initialized!\n",
            "[Flyer] Flying...\n",
            "[Swimmer] Swimming...\n",
            "[Duck] Quacking!\n"
          ]
        }
      ]
    },
    {
      "cell_type": "code",
      "source": [
        "class Walker:\n",
        "    def walk(self):\n",
        "        print(\"[Walker] Walking...\")\n",
        "\n",
        "\n",
        "class Runner:\n",
        "    def run(self):\n",
        "        print(\"[Runner] Running...\")\n",
        "\n",
        "class Athlete(Walker, Runner):\n",
        "    def compete(self):\n",
        "        print(\"[Athlete] Competing!\")\n",
        "\n",
        "athlete = Athlete()\n",
        "athlete.walk()\n",
        "athlete.run()\n",
        "athlete.compete()\n"
      ],
      "metadata": {
        "colab": {
          "base_uri": "https://localhost:8080/"
        },
        "id": "M3sUAsl17KE_",
        "outputId": "b5b27abc-cf9e-43ff-c394-437ac659123c"
      },
      "execution_count": null,
      "outputs": [
        {
          "output_type": "stream",
          "name": "stdout",
          "text": [
            "[Walker] Walking...\n",
            "[Runner] Running...\n",
            "[Athlete] Competing!\n"
          ]
        }
      ]
    },
    {
      "cell_type": "code",
      "source": [
        "\n",
        "class Painter:\n",
        "    def paint(self):\n",
        "        print(\"[Painter] Painting...\")\n",
        "\n",
        "class Singer:\n",
        "    def sing(self):\n",
        "        print(\"[Singer] Singing...\")\n",
        "\n",
        "\n",
        "class Artist(Painter, Singer):\n",
        "    def perform(self):\n",
        "        print(\"[Artist] Performing!\")\n",
        "artist = Artist()\n",
        "artist.paint()\n",
        "artist.sing()\n",
        "artist.perform()\n"
      ],
      "metadata": {
        "colab": {
          "base_uri": "https://localhost:8080/"
        },
        "id": "0AfspBsYOhu-",
        "outputId": "5cc6a4fe-14e4-4352-ba0f-ec708aa19571"
      },
      "execution_count": null,
      "outputs": [
        {
          "output_type": "stream",
          "name": "stdout",
          "text": [
            "[Painter] Painting...\n",
            "[Singer] Singing...\n",
            "[Artist] Performing!\n"
          ]
        }
      ]
    },
    {
      "cell_type": "code",
      "source": [
        "##Hybrid Ihneritance"
      ],
      "metadata": {
        "id": "AYbnWcv0Ohrk"
      },
      "execution_count": null,
      "outputs": []
    },
    {
      "cell_type": "code",
      "source": [
        "\n",
        "class Person:\n",
        "    def __init__(self, name):\n",
        "        self.name = name\n",
        "        print(f\"[Person] Initialized: {self.name}\")\n",
        "\n",
        "\n",
        "class Employee:\n",
        "    def work(self):\n",
        "        print(\"[Employee] Working...\")\n",
        "\n",
        "\n",
        "class Student:\n",
        "    def study(self):\n",
        "        print(\"[Student] Studying...\")\n",
        "\n",
        "\n",
        "class Intern(Person, Employee, Student):\n",
        "    def __init__(self, name):\n",
        "        Person.__init__(self, name)\n",
        "        print(\"[Intern] Initialized!\")\n",
        "\n",
        "    def intern(self):\n",
        "        print(f\"[Intern] {self.name} is interning!\")\n",
        "\n",
        "intern = Intern(\"Alice\")\n",
        "intern.work()\n",
        "intern.study()\n",
        "intern.intern()\n",
        "\n",
        "\n"
      ],
      "metadata": {
        "colab": {
          "base_uri": "https://localhost:8080/"
        },
        "id": "VTZRUmqEPYju",
        "outputId": "6ec40166-408f-4686-80fb-a2509d05e626"
      },
      "execution_count": null,
      "outputs": [
        {
          "output_type": "stream",
          "name": "stdout",
          "text": [
            "[Person] Initialized: Alice\n",
            "[Intern] Initialized!\n",
            "[Employee] Working...\n",
            "[Student] Studying...\n",
            "[Intern] Alice is interning!\n"
          ]
        }
      ]
    },
    {
      "cell_type": "code",
      "source": [
        "class Account:\n",
        "    def __init__(self, id):\n",
        "        self.id = id\n",
        "        print(f\"[Account] ID: {self.id}\")\n",
        "\n",
        "\n",
        "class Buyer:\n",
        "    def buy(self):\n",
        "        print(\"[Buyer] Buying...\")\n",
        "\n",
        "\n",
        "class Seller:\n",
        "    def sell(self):\n",
        "        print(\"[Seller] Selling...\")\n",
        "\n",
        "\n",
        "class MarketplaceUser(Account, Buyer, Seller):\n",
        "    def __init__(self, id):\n",
        "        Account.__init__(self, id)\n",
        "        print(\"[MarketplaceUser] Initialized!\")\n",
        "\n",
        "    def is_active(self):\n",
        "        print(f\"[MarketplaceUser] User {self.id} is active!\")\n",
        "\n",
        "\n",
        "user = MarketplaceUser(101)\n",
        "user.buy()\n",
        "user.sell()\n",
        "user.is_active()\n"
      ],
      "metadata": {
        "colab": {
          "base_uri": "https://localhost:8080/"
        },
        "id": "TtioOwPePYgL",
        "outputId": "071d6305-6f09-4442-9353-80b386c5d2fd"
      },
      "execution_count": null,
      "outputs": [
        {
          "output_type": "stream",
          "name": "stdout",
          "text": [
            "[Account] ID: 101\n",
            "[MarketplaceUser] Initialized!\n",
            "[Buyer] Buying...\n",
            "[Seller] Selling...\n",
            "[MarketplaceUser] User 101 is active!\n"
          ]
        }
      ]
    },
    {
      "cell_type": "code",
      "source": [
        "class Device:\n",
        "    def __init__(self, name):\n",
        "        self.name = name\n",
        "        print(f\"[Device] Name: {self.name}\")\n",
        "\n",
        "\n",
        "class Camera:\n",
        "    def take_photo(self):\n",
        "        print(\"[Camera] Taking photo...\")\n",
        "\n",
        "\n",
        "class Phone:\n",
        "    def make_call(self):\n",
        "        print(\"[Phone] Making call...\")\n",
        "\n",
        "\n",
        "class Smartphone(Device, Camera, Phone):\n",
        "    def __init__(self, name):\n",
        "        Device.__init__(self, name)\n",
        "        print(\"[Smartphone] Ready!\")\n",
        "\n",
        "    def smart_feature(self):\n",
        "        print(f\"[Smartphone] {self.name} is smart!\")\n",
        "\n",
        "sp = Smartphone(\"Pixel\")\n",
        "sp.take_photo()\n",
        "sp.make_call()\n",
        "sp.smart_feature()\n"
      ],
      "metadata": {
        "colab": {
          "base_uri": "https://localhost:8080/"
        },
        "id": "jtkIIpJPStNL",
        "outputId": "337690fc-5a41-41d6-9ded-6bf46aba45b7"
      },
      "execution_count": null,
      "outputs": [
        {
          "output_type": "stream",
          "name": "stdout",
          "text": [
            "[Device] Name: Pixel\n",
            "[Smartphone] Ready!\n",
            "[Camera] Taking photo...\n",
            "[Phone] Making call...\n",
            "[Smartphone] Pixel is smart!\n"
          ]
        }
      ]
    },
    {
      "cell_type": "code",
      "source": [
        "##Hierarcial Inheritance"
      ],
      "metadata": {
        "id": "FPvJYIs8StJz"
      },
      "execution_count": null,
      "outputs": []
    },
    {
      "cell_type": "code",
      "source": [
        "class Shape:\n",
        "    def __init__(self, name):\n",
        "        self.name = name\n",
        "        print(f\"[Shape] Initialized: {self.name}\")\n",
        "\n",
        "    def draw(self):\n",
        "        print(f\"[Shape] Drawing {self.name}\")\n",
        "\n",
        "class Circle(Shape):\n",
        "    def __init__(self, name, radius):\n",
        "        super().__init__(name)\n",
        "        self.radius = radius\n",
        "        print(f\"[Circle] Radius: {self.radius}\")\n",
        "\n",
        "    def area(self):\n",
        "        print(f\"[Circle] Area: {3.14 * self.radius * self.radius}\")\n",
        "\n",
        "class Square(Shape):\n",
        "    def __init__(self, name, side):\n",
        "        super().__init__(name)\n",
        "        self.side = side\n",
        "        print(f\"[Square] Side: {self.side}\")\n",
        "\n",
        "    def area(self):\n",
        "        print(f\"[Square] Area: {self.side * self.side}\")\n",
        "\n",
        "c = Circle(\"Circle\", 5)\n",
        "s = Square(\"Square\", 4)\n",
        "c.draw()\n",
        "c.area()\n",
        "s.draw()\n",
        "s.area()\n"
      ],
      "metadata": {
        "colab": {
          "base_uri": "https://localhost:8080/"
        },
        "id": "ZI_2yN1rStC0",
        "outputId": "5767ff5f-3e84-4334-9902-ba784af4fa83"
      },
      "execution_count": null,
      "outputs": [
        {
          "output_type": "stream",
          "name": "stdout",
          "text": [
            "[Shape] Initialized: Circle\n",
            "[Circle] Radius: 5\n",
            "[Shape] Initialized: Square\n",
            "[Square] Side: 4\n",
            "[Shape] Drawing Circle\n",
            "[Circle] Area: 78.5\n",
            "[Shape] Drawing Square\n",
            "[Square] Area: 16\n"
          ]
        }
      ]
    },
    {
      "cell_type": "code",
      "source": [
        "class Employee:\n",
        "    def __init__(self, name):\n",
        "        self.name = name\n",
        "        print(f\"[Employee] Name: {self.name}\")\n",
        "\n",
        "    def work(self):\n",
        "        print(f\"[Employee] Working: {self.name}\")\n",
        "\n",
        "\n",
        "class Manager(Employee):\n",
        "    def __init__(self, name, department):\n",
        "        super().__init__(name)\n",
        "        self.department = department\n",
        "        print(f\"[Manager] Department: {self.department}\")\n",
        "\n",
        "    def manage(self):\n",
        "        print(f\"[Manager] Managing {self.department}\")\n",
        "\n",
        "class Developer(Employee):\n",
        "    def __init__(self, name, project):\n",
        "        super().__init__(name)\n",
        "        self.project = project\n",
        "        print(f\"[Developer] Project: {self.project}\")\n",
        "\n",
        "    def code(self):\n",
        "        print(f\"[Developer] Coding for {self.project}\")\n",
        "\n",
        "mgr = Manager(\"Alice\", \"HR\")\n",
        "dev = Developer(\"Bob\", \"AI\")\n",
        "mgr.manage()\n",
        "mgr.work()\n",
        "dev.code()\n",
        "dev.work()"
      ],
      "metadata": {
        "colab": {
          "base_uri": "https://localhost:8080/"
        },
        "id": "6YDte4m5URCz",
        "outputId": "34171958-a42e-4c9d-c193-5b0f73309054"
      },
      "execution_count": null,
      "outputs": [
        {
          "output_type": "stream",
          "name": "stdout",
          "text": [
            "[Employee] Name: Alice\n",
            "[Manager] Department: HR\n",
            "[Employee] Name: Bob\n",
            "[Developer] Project: AI\n",
            "[Manager] Managing HR\n",
            "[Employee] Working: Alice\n",
            "[Developer] Coding for AI\n",
            "[Employee] Working: Bob\n"
          ]
        }
      ]
    },
    {
      "cell_type": "code",
      "source": [
        "\n",
        "class Vehicle:\n",
        "    def __init__(self, name):\n",
        "        self.name = name\n",
        "        print(f\"[Vehicle] Name: {self.name}\")\n",
        "\n",
        "    def move(self):\n",
        "        print(f\"[Vehicle] Moving: {self.name}\")\n",
        "\n",
        "\n",
        "class Bike(Vehicle):\n",
        "    def __init__(self, name, wheels):\n",
        "        super().__init__(name)\n",
        "        self.wheels = wheels\n",
        "        print(f\"[Bike] Wheels: {self.wheels}\")\n",
        "\n",
        "    def ride(self):\n",
        "        print(f\"[Bike] Riding with {self.wheels} wheels\")\n",
        "\n",
        "\n",
        "class Bus(Vehicle):\n",
        "    def __init__(self, name, seats):\n",
        "        super().__init__(name)\n",
        "        self.seats = seats\n",
        "        print(f\"[Bus] Seats: {self.seats}\")\n",
        "\n",
        "    def transport(self):\n",
        "        print(f\"[Bus] Carrying {self.seats} passengers\")\n",
        "\n",
        "bike = Bike(\"MountainBike\", 2)\n",
        "bus = Bus(\"CityBus\", 40)\n",
        "bike.move()\n",
        "bike.ride()\n",
        "bus.move()\n",
        "bus.transport()\n"
      ],
      "metadata": {
        "colab": {
          "base_uri": "https://localhost:8080/"
        },
        "id": "6Z-UI9cLUQ1D",
        "outputId": "d6bc8f76-cbc0-4ba3-c29f-51102dfd122d"
      },
      "execution_count": null,
      "outputs": [
        {
          "output_type": "stream",
          "name": "stdout",
          "text": [
            "[Vehicle] Name: MountainBike\n",
            "[Bike] Wheels: 2\n",
            "[Vehicle] Name: CityBus\n",
            "[Bus] Seats: 40\n",
            "[Vehicle] Moving: MountainBike\n",
            "[Bike] Riding with 2 wheels\n",
            "[Vehicle] Moving: CityBus\n",
            "[Bus] Carrying 40 passengers\n"
          ]
        }
      ]
    }
  ]
}