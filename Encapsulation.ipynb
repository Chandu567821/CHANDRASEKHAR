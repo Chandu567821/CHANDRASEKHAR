{
  "cells": [
    {
      "cell_type": "code",
      "execution_count": null,
      "metadata": {
        "id": "YBO02MiN0kD9"
      },
      "outputs": [],
      "source": [
        "Encapsulation"
      ]
    },
    {
      "cell_type": "code",
      "execution_count": null,
      "metadata": {
        "colab": {
          "base_uri": "https://localhost:8080/"
        },
        "id": "rEMnfAlh0pjO",
        "outputId": "6d148447-2b90-47a5-d389-0d0daadc99a3"
      },
      "outputs": [
        {
          "name": "stdout",
          "output_type": "stream",
          "text": [
            "Royal Enfield\n"
          ]
        }
      ],
      "source": [
        "class Bike:\n",
        "    def __init__(self):\n",
        "        self.brand = \"Royal Enfield\"\n",
        "\n",
        "b = Bike()\n",
        "print(b.brand)"
      ]
    },
    {
      "cell_type": "code",
      "execution_count": null,
      "metadata": {
        "id": "EAONBQWE0pf2"
      },
      "outputs": [],
      "source": []
    },
    {
      "cell_type": "code",
      "execution_count": 22,
      "metadata": {
        "colab": {
          "base_uri": "https://localhost:8080/"
        },
        "id": "9l5DDiJt0pci",
        "outputId": "3088be71-c98a-4b19-9586-5038f630914c"
      },
      "outputs": [
        {
          "output_type": "stream",
          "name": "stdout",
          "text": [
            "Chandrasekhar 70000\n"
          ]
        }
      ],
      "source": [
        "class Employee:\n",
        "    def __init__(self):\n",
        "        self.name = \"Chandrasekhar\"\n",
        "        self.salary = 70000\n",
        "\n",
        "e = Employee()\n",
        "print(e.name, e.salary)\n"
      ]
    },
    {
      "cell_type": "code",
      "execution_count": null,
      "metadata": {
        "id": "Wj7wQQha0pZj"
      },
      "outputs": [],
      "source": []
    },
    {
      "cell_type": "code",
      "execution_count": 23,
      "metadata": {
        "id": "n1XfYlpE0pWg",
        "colab": {
          "base_uri": "https://localhost:8080/"
        },
        "outputId": "370171e5-2065-402d-a6a1-441efa43bcca"
      },
      "outputs": [
        {
          "output_type": "stream",
          "name": "stdout",
          "text": [
            "SN-987654\n"
          ]
        }
      ],
      "source": [
        "class Laptop:\n",
        "    def __init__(self):\n",
        "        self.__serial_number = \"SN-987654\"\n",
        "\n",
        "    def get_serial_number(self):\n",
        "        return self.__serial_number\n",
        "\n",
        "l = Laptop()\n",
        "print(l.get_serial_number())\n"
      ]
    },
    {
      "cell_type": "code",
      "execution_count": null,
      "metadata": {
        "id": "dSO02CDN0pTa"
      },
      "outputs": [],
      "source": []
    },
    {
      "cell_type": "code",
      "execution_count": 24,
      "metadata": {
        "id": "iwrheYiB0pQI",
        "colab": {
          "base_uri": "https://localhost:8080/"
        },
        "outputId": "73f03655-cea1-45f6-bf7b-093726cee4bb"
      },
      "outputs": [
        {
          "output_type": "stream",
          "name": "stdout",
          "text": [
            "One Plus\n"
          ]
        }
      ],
      "source": [
        "class Mobile:\n",
        "    def __init__(self):\n",
        "        self.__serial_number = \"One Plus\"\n",
        "\n",
        "    def get_serial_number(self):\n",
        "        return self.__serial_number\n",
        "\n",
        "m = Mobile()\n",
        "print(m.get_serial_number())\n"
      ]
    },
    {
      "cell_type": "code",
      "execution_count": null,
      "metadata": {
        "id": "Z59KAJCe0pNN"
      },
      "outputs": [],
      "source": []
    },
    {
      "cell_type": "code",
      "execution_count": 25,
      "metadata": {
        "id": "Fq1zIPOf0pKG",
        "colab": {
          "base_uri": "https://localhost:8080/"
        },
        "outputId": "c3f94457-e7bd-4d7d-ac9f-5eeb05e36943"
      },
      "outputs": [
        {
          "output_type": "stream",
          "name": "stdout",
          "text": [
            "Deposited 300. New balance: 400\n",
            "Invalid pin or insufficient funds\n",
            "Withdrew 300. New balance: 100\n",
            "100\n",
            "Access Denied\n"
          ]
        }
      ],
      "source": [
        "class BankAccount:\n",
        "    def __init__(self, holder_name, balance, pin):\n",
        "        self._holder_name = holder_name      # protected\n",
        "        self.__balance = balance             # private\n",
        "        self.__pin = pin                     # private\n",
        "\n",
        "    def deposit(self, amount):\n",
        "        if amount > 0:\n",
        "            self.__balance += amount\n",
        "            return f\"Deposited {amount}. New balance: {self.__balance}\"\n",
        "        else:\n",
        "            return \"Invalid deposit amount\"\n",
        "\n",
        "    def withdraw(self, amount, pin):\n",
        "        if pin == self.__pin and amount <= self.__balance:\n",
        "            self.__balance -= amount\n",
        "            return f\"Withdrew {amount}. New balance: {self.__balance}\"\n",
        "        else:\n",
        "            return \"Invalid pin or insufficient funds\"\n",
        "\n",
        "    def get_balance(self, pin):\n",
        "        return self.__balance if pin == self.__pin else \"Access Denied\"\n",
        "\n",
        "\n",
        "account = BankAccount(\"Alice\", 100, 1234)\n",
        "\n",
        "print(account.deposit(300))\n",
        "\n",
        "print(account.withdraw(50, 1111))\n",
        "\n",
        "print(account.withdraw(300, 1234))\n",
        "\n",
        "print(account.get_balance(1234))\n",
        "\n",
        "print(account.get_balance(9999))\n"
      ]
    },
    {
      "cell_type": "code",
      "source": [],
      "metadata": {
        "id": "qLjD-d3BEZ9O"
      },
      "execution_count": null,
      "outputs": []
    },
    {
      "cell_type": "code",
      "source": [
        "class TicketCounter:\n",
        "    def __init__(self, movie, total_seats):\n",
        "        self.movie = movie\n",
        "        self.__total_seats = total_seats\n",
        "\n",
        "    def book_ticket(self, num_seats):\n",
        "        if num_seats > 0 and num_seats <= self.__total_seats:\n",
        "            self.__total_seats -= num_seats\n",
        "            return f\"Booked {num_seats} seats. Remaining: {self.__total_seats}\"\n",
        "        else:\n",
        "            return \"Not enough seats available\"\n",
        "\n",
        "    def cancel_ticket(self, num_seats):\n",
        "        if num_seats > 0:\n",
        "            self.__total_seats += num_seats\n",
        "            return f\"Cancelled {num_seats} seats. Remaining: {self.__total_seats}\"\n",
        "        else:\n",
        "            return \"Invalid number of seats\"\n",
        "\n",
        "    def get_remaining_seats(self):\n",
        "        return self.__total_seats\n",
        "\n",
        "\n",
        "t = TicketCounter(\"Inception\", 5)\n",
        "print(t.book_ticket(2))\n",
        "print(t.book_ticket(4))\n",
        "print(t.cancel_ticket(1))\n",
        "print(t.get_remaining_seats())"
      ],
      "metadata": {
        "colab": {
          "base_uri": "https://localhost:8080/"
        },
        "id": "MSRbHCzNEZzP",
        "outputId": "3041a41c-3449-43f2-9831-a1325fbbf666"
      },
      "execution_count": 27,
      "outputs": [
        {
          "output_type": "stream",
          "name": "stdout",
          "text": [
            "Booked 2 seats. Remaining: 3\n",
            "Not enough seats available\n",
            "Cancelled 1 seats. Remaining: 4\n",
            "4\n"
          ]
        }
      ]
    }
  ],
  "metadata": {
    "colab": {
      "provenance": []
    },
    "kernelspec": {
      "display_name": "Python 3",
      "name": "python3"
    },
    "language_info": {
      "name": "python"
    }
  },
  "nbformat": 4,
  "nbformat_minor": 0
}