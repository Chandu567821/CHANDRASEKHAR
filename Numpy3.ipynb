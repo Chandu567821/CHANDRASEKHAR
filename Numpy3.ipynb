{
  "nbformat": 4,
  "nbformat_minor": 0,
  "metadata": {
    "colab": {
      "provenance": []
    },
    "kernelspec": {
      "name": "python3",
      "display_name": "Python 3"
    },
    "language_info": {
      "name": "python"
    }
  },
  "cells": [
    {
      "cell_type": "code",
      "source": [
        "import numpy as np\n"
      ],
      "metadata": {
        "id": "TBvz3eUjjfQy"
      },
      "execution_count": null,
      "outputs": []
    },
    {
      "cell_type": "code",
      "source": [
        "retail_np_array=np.array([\n",
        "    [1001,\"Laptop\",1,50000,50000],\n",
        "    [1002,\"Mouse\" ,2,500,1000],\n",
        "    [1003,\"Keyboard\",1,1000,1000],\n",
        "    [1004,\"Monitor\",2,700,14000],\n",
        "    [1005,\"Headphones\",2,2000,2000]\n",
        "    ],dtype=object)\n",
        "retail_np_array"
      ],
      "metadata": {
        "colab": {
          "base_uri": "https://localhost:8080/"
        },
        "id": "l0YKgS2cjfJ4",
        "outputId": "bbcdfe24-db78-452a-f8e0-887a156a53f6"
      },
      "execution_count": null,
      "outputs": [
        {
          "output_type": "execute_result",
          "data": {
            "text/plain": [
              "array([[1001, 'Laptop', 1, 50000, 50000],\n",
              "       [1002, 'Mouse', 2, 500, 1000],\n",
              "       [1003, 'Keyboard', 1, 1000, 1000],\n",
              "       [1004, 'Monitor', 2, 700, 14000],\n",
              "       [1005, 'Headphones', 2, 2000, 2000]], dtype=object)"
            ]
          },
          "metadata": {},
          "execution_count": 5
        }
      ]
    },
    {
      "cell_type": "code",
      "source": [
        "customer_ids= retail_np_array[:,0]\n",
        "customer_ids"
      ],
      "metadata": {
        "colab": {
          "base_uri": "https://localhost:8080/"
        },
        "id": "elj-ms2YjfCj",
        "outputId": "4bdcdc8b-d204-4cfb-e30a-0d1f63c2fbef"
      },
      "execution_count": null,
      "outputs": [
        {
          "output_type": "execute_result",
          "data": {
            "text/plain": [
              "array([1001, 1002, 1003, 1004, 1005], dtype=object)"
            ]
          },
          "metadata": {},
          "execution_count": 13
        }
      ]
    },
    {
      "cell_type": "code",
      "source": [
        "products= retail_np_array[:,1]\n",
        "products\n"
      ],
      "metadata": {
        "colab": {
          "base_uri": "https://localhost:8080/"
        },
        "id": "RMw83-5_je8U",
        "outputId": "6e4ee044-fdaa-4bd0-d90e-8a5053ff986a"
      },
      "execution_count": null,
      "outputs": [
        {
          "output_type": "execute_result",
          "data": {
            "text/plain": [
              "array(['Laptop', 'Mouse', 'Keyboard', 'Monitor', 'Headphones'],\n",
              "      dtype=object)"
            ]
          },
          "metadata": {},
          "execution_count": 14
        }
      ]
    },
    {
      "cell_type": "code",
      "source": [
        "retail_np_array.shape[0]"
      ],
      "metadata": {
        "colab": {
          "base_uri": "https://localhost:8080/"
        },
        "id": "ubkaiGgLje2S",
        "outputId": "41970a23-8d5d-4789-d238-e1b98f03e786"
      },
      "execution_count": null,
      "outputs": [
        {
          "output_type": "execute_result",
          "data": {
            "text/plain": [
              "5"
            ]
          },
          "metadata": {},
          "execution_count": 15
        }
      ]
    },
    {
      "cell_type": "code",
      "source": [
        "retail_np_array.size"
      ],
      "metadata": {
        "colab": {
          "base_uri": "https://localhost:8080/"
        },
        "id": "SF0quCO_jev-",
        "outputId": "5095f307-1d3e-4293-c42a-b4cd3e1c4da4"
      },
      "execution_count": null,
      "outputs": [
        {
          "output_type": "execute_result",
          "data": {
            "text/plain": [
              "25"
            ]
          },
          "metadata": {},
          "execution_count": 18
        }
      ]
    },
    {
      "cell_type": "code",
      "source": [],
      "metadata": {
        "id": "IHTKfXTetQ0r"
      },
      "execution_count": null,
      "outputs": []
    },
    {
      "cell_type": "code",
      "source": [],
      "metadata": {
        "id": "N4OxtK1NtQxR"
      },
      "execution_count": null,
      "outputs": []
    },
    {
      "cell_type": "code",
      "source": [],
      "metadata": {
        "id": "jr5gOd_6tQu6"
      },
      "execution_count": null,
      "outputs": []
    },
    {
      "cell_type": "code",
      "source": [],
      "metadata": {
        "id": "s1TCc1MutQrm"
      },
      "execution_count": null,
      "outputs": []
    }
  ]
}